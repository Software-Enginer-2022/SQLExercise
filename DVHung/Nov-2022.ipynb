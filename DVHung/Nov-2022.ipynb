{
 "cells": [
  {
   "cell_type": "markdown",
   "metadata": {},
   "source": [
    "# SQL Exercise in November 2022"
   ]
  },
  {
   "cell_type": "markdown",
   "metadata": {},
   "source": [
    "Date: 04/11/2022\n",
    "\n",
    "### [175. Combine Two Tables](https://leetcode.com/problems/combine-two-tables/)\n",
    "\n",
    "```mysql\n",
    "SELECT firstName, lastName, city, state \n",
    "FROM Person LEFT JOIN Address ON Person.personId = Address.personId\n",
    "```"
   ]
  },
  {
   "cell_type": "markdown",
   "metadata": {},
   "source": [
    "Date: 07/11/2022\n",
    "\n",
    "### [1393. Capital Gain/Loss](https://leetcode.com/problems/capital-gainloss/)\n",
    "\n",
    "```mysql\n",
    "SELECT \n",
    "  stock_name, \n",
    "  SUM(\n",
    "    CASE WHEN operation = 'Buy' THEN - price ELSE price END\n",
    "  ) capital_gain_loss \n",
    "FROM \n",
    "  Stocks \n",
    "GROUP BY \n",
    "  stock_name\n",
    "```"
   ]
  }
 ],
 "metadata": {
  "language_info": {
   "name": "python"
  },
  "orig_nbformat": 4
 },
 "nbformat": 4,
 "nbformat_minor": 2
}
