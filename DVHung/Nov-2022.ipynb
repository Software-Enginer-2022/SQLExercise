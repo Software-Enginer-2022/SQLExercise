{
 "cells": [
  {
   "cell_type": "markdown",
   "metadata": {},
   "source": [
    "# SQL Exercise in November 2022"
   ]
  },
  {
   "cell_type": "markdown",
   "metadata": {},
   "source": [
    "Date: 04/11/2022\n",
    "\n",
    "### [175. Combine Two Tables](https://leetcode.com/problems/combine-two-tables/)\n",
    "\n",
    "```mysql\n",
    "SELECT firstName, lastName, city, state \n",
    "FROM Person LEFT JOIN Address ON Person.personId = Address.personId\n",
    "```"
   ]
  }
 ],
 "metadata": {
  "language_info": {
   "name": "python"
  },
  "orig_nbformat": 4
 },
 "nbformat": 4,
 "nbformat_minor": 2
}
