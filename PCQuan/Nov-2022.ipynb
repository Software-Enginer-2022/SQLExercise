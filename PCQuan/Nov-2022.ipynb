{
 "cells": [
  {
   "cell_type": "markdown",
   "metadata": {},
   "source": [
    "# SQL Practice in November 2022"
   ]
  },
  {
   "cell_type": "markdown",
   "metadata": {},
   "source": [
    "### [175. Combine Two Tables](https://leetcode.com/problems/combine-two-tables/)\n",
    "Date: 04/11/2022\n",
    "\n",
    "```sql\n",
    "SELECT p.lastname, p.firstname, a.city, a.state FROM Person p \n",
    "LEFT JOIN Address a ON p.personId = a.personId\n",
    "```"
   ]
  },
  {
   "cell_type": "markdown",
   "metadata": {},
   "source": [
    "### [1393. Capital Gain/Loss](https://leetcode.com/problems/capital-gainloss/)\n",
    "Date: 07/11/2022\n",
    "**Way 1:**\n",
    "Reference: [Stored Procedure](https://www.semtek.com.vn/procedure-la-gi/)\n",
    "```sql\n",
    "SELECT stock_name, SUM(IF(operation='Buy', -price, price)) AS capital_gain_loss\n",
    "FROM Stocks\n",
    "GROUP BY stock_name\n",
    "```\n",
    "\n",
    "**Way 2:**\n",
    "Reference: [MySQL CASE Function](https://www.w3schools.com/sql/func_mysql_case.asp)\n",
    "```sql\n",
    "SELECT \n",
    "    stock_name,\n",
    "    SUM(\n",
    "        CASE operation\n",
    "            WHEN 'BUY' THEN -price\n",
    "            ELSE price\n",
    "        END\n",
    "    ) AS capital_gain_loss\n",
    "FROM Stocks\n",
    "GROUP BY stock_name \n",
    "```\n",
    "\n"
   ]
  },
  {
   "cell_type": "code",
   "execution_count": null,
   "metadata": {},
   "outputs": [],
   "source": []
  }
 ],
 "metadata": {
  "kernelspec": {
   "display_name": "Python 3.8.1 64-bit",
   "language": "python",
   "name": "python3"
  },
  "language_info": {
   "name": "python",
   "version": "3.8.1"
  },
  "orig_nbformat": 4,
  "vscode": {
   "interpreter": {
    "hash": "42b78c3585b64281664d94975fc7327e25b5e8e362bcc777866ba3ef5d05365b"
   }
  }
 },
 "nbformat": 4,
 "nbformat_minor": 2
}
