{
 "cells": [
  {
   "cell_type": "markdown",
   "metadata": {},
   "source": [
    "# SQL Practice in November 2022"
   ]
  },
  {
   "cell_type": "markdown",
   "metadata": {},
   "source": [
    "### [175. Combine Two Tables](https://leetcode.com/problems/combine-two-tables/)\n",
    "Date: 04/10/2022\n",
    "\n",
    "```sql\n",
    "SELECT p.lastname, p.firstname, a.city, a.state FROM Person p \n",
    "LEFT JOIN Address a ON p.personId = a.personId\n",
    "```"
   ]
  },
  {
   "cell_type": "code",
   "execution_count": null,
   "metadata": {},
   "outputs": [],
   "source": []
  }
 ],
 "metadata": {
  "kernelspec": {
   "display_name": "Python 3.8.1 64-bit",
   "language": "python",
   "name": "python3"
  },
  "language_info": {
   "name": "python",
   "version": "3.8.1"
  },
  "orig_nbformat": 4,
  "vscode": {
   "interpreter": {
    "hash": "42b78c3585b64281664d94975fc7327e25b5e8e362bcc777866ba3ef5d05365b"
   }
  }
 },
 "nbformat": 4,
 "nbformat_minor": 2
}
